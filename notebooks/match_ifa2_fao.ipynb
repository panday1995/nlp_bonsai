{
 "cells": [
  {
   "cell_type": "code",
   "execution_count": 1,
   "metadata": {},
   "outputs": [
    {
     "name": "stdout",
     "output_type": "stream",
     "text": [
      "Use default cache directory C:\\Users\\sheep\\.bonsait\n"
     ]
    }
   ],
   "source": [
    "from bonsait import BonsaiTransformer, BaseClass\n",
    "import pandas as pd"
   ]
  },
  {
   "cell_type": "markdown",
   "metadata": {},
   "source": [
    "## Match FAOSTAT with IFA crop using nlp models"
   ]
  },
  {
   "cell_type": "code",
   "execution_count": 2,
   "metadata": {},
   "outputs": [],
   "source": [
    "excel_path = \"./data/FertiliserCorr.xlsx\"\n",
    "ifa_class = BaseClass.from_excel(path=excel_path, name=\"IFAClassification\", string_col=\"names\", sheet_name=\"IFAcrop\")"
   ]
  },
  {
   "cell_type": "code",
   "execution_count": 3,
   "metadata": {},
   "outputs": [
    {
     "name": "stdout",
     "output_type": "stream",
     "text": [
      "No model is provided, the default model all-mpnet-base-v2 is used\n"
     ]
    }
   ],
   "source": [
    "transformer = BonsaiTransformer()"
   ]
  },
  {
   "cell_type": "code",
   "execution_count": 4,
   "metadata": {},
   "outputs": [],
   "source": [
    "# Get fao classifications to match\n",
    "fao_class = pd.read_excel(excel_path, sheet_name=\"FAOcrop\")"
   ]
  },
  {
   "cell_type": "code",
   "execution_count": 5,
   "metadata": {},
   "outputs": [],
   "source": [
    "dict_name_match = {}\n",
    "for fao_name in list(fao_class[\"name\"]):\n",
    "    ls_target_class = transformer.match(source_class=fao_name, target_class=ifa_class, top_k=5)\n",
    "    dict_name_match[fao_name] = ls_target_class"
   ]
  },
  {
   "cell_type": "code",
   "execution_count": 8,
   "metadata": {},
   "outputs": [],
   "source": [
    "df_match = pd.DataFrame.from_dict(dict_name_match, orient=\"index\", columns=[f\"match_{i}\" for i in range(1,6)])\n",
    "df_match.index.name = \"fao_name\""
   ]
  },
  {
   "cell_type": "code",
   "execution_count": 14,
   "metadata": {},
   "outputs": [],
   "source": [
    "df_match.to_csv(\"./data/corr_fao_ifa.csv\")"
   ]
  },
  {
   "cell_type": "markdown",
   "metadata": {},
   "source": [
    "## Compare with expert tagged dataset"
   ]
  },
  {
   "cell_type": "code",
   "execution_count": 12,
   "metadata": {},
   "outputs": [],
   "source": [
    "fao_ifa_match = pd.read_excel(excel_path, sheet_name=\"CropMatch3\", index_col=[0])"
   ]
  },
  {
   "cell_type": "code",
   "execution_count": 13,
   "metadata": {},
   "outputs": [
    {
     "data": {
      "text/html": [
       "<div>\n",
       "<style scoped>\n",
       "    .dataframe tbody tr th:only-of-type {\n",
       "        vertical-align: middle;\n",
       "    }\n",
       "\n",
       "    .dataframe tbody tr th {\n",
       "        vertical-align: top;\n",
       "    }\n",
       "\n",
       "    .dataframe thead th {\n",
       "        text-align: right;\n",
       "    }\n",
       "</style>\n",
       "<table border=\"1\" class=\"dataframe\">\n",
       "  <thead>\n",
       "    <tr style=\"text-align: right;\">\n",
       "      <th></th>\n",
       "      <th>IFAstat crop name, match 1</th>\n",
       "      <th>IFAstat crop name, match 2</th>\n",
       "      <th>IFAstat crop name, match 3</th>\n",
       "      <th>IFAstat crop name, match 4</th>\n",
       "      <th>IFAstat crop name, match 5</th>\n",
       "    </tr>\n",
       "    <tr>\n",
       "      <th>Faostat crop names</th>\n",
       "      <th></th>\n",
       "      <th></th>\n",
       "      <th></th>\n",
       "      <th></th>\n",
       "      <th></th>\n",
       "    </tr>\n",
       "  </thead>\n",
       "  <tbody>\n",
       "    <tr>\n",
       "      <th>Abaca, manila hemp, raw</th>\n",
       "      <td>Other industrial crops</td>\n",
       "      <td>Jute</td>\n",
       "      <td>Cotton</td>\n",
       "      <td>Flax (fiber)</td>\n",
       "      <td>Other (including tobacco, poppy...)</td>\n",
       "    </tr>\n",
       "    <tr>\n",
       "      <th>Agave fibres, raw, n.e.c.</th>\n",
       "      <td>Other industrial crops</td>\n",
       "      <td>Jute</td>\n",
       "      <td>Cotton</td>\n",
       "      <td>Flax (fiber)</td>\n",
       "      <td>Other (including tobacco, poppy...)</td>\n",
       "    </tr>\n",
       "    <tr>\n",
       "      <th>Almonds, in shell</th>\n",
       "      <td>Fruits &amp; Treenuts</td>\n",
       "      <td>Fruits and vegetables</td>\n",
       "      <td>Fruits</td>\n",
       "      <td>Orchard</td>\n",
       "      <td>Fruits (apples, citrus, oranges)</td>\n",
       "    </tr>\n",
       "    <tr>\n",
       "      <th>Anise, badian, coriander, cumin, caraway, fennel and juniper berries, raw</th>\n",
       "      <td>Other (including tobacco, poppy...)</td>\n",
       "      <td>Fruits and vegetables</td>\n",
       "      <td>fresh herbs</td>\n",
       "      <td>Vegetables</td>\n",
       "      <td>Commercial Forests</td>\n",
       "    </tr>\n",
       "    <tr>\n",
       "      <th>Apples</th>\n",
       "      <td>Fruits (apples, citrus, oranges)</td>\n",
       "      <td>Fruits</td>\n",
       "      <td>Fruits and vegetables</td>\n",
       "      <td>Orchard</td>\n",
       "      <td>citrus</td>\n",
       "    </tr>\n",
       "  </tbody>\n",
       "</table>\n",
       "</div>"
      ],
      "text/plain": [
       "                                                            IFAstat crop name, match 1   \\\n",
       "Faostat crop names                                                                        \n",
       "Abaca, manila hemp, raw                                          Other industrial crops   \n",
       "Agave fibres, raw, n.e.c.                                        Other industrial crops   \n",
       "Almonds, in shell                                                     Fruits & Treenuts   \n",
       "Anise, badian, coriander, cumin, caraway, fenne...  Other (including tobacco, poppy...)   \n",
       "Apples                                                 Fruits (apples, citrus, oranges)   \n",
       "\n",
       "                                                   IFAstat crop name, match 2  \\\n",
       "Faostat crop names                                                              \n",
       "Abaca, manila hemp, raw                                                  Jute   \n",
       "Agave fibres, raw, n.e.c.                                                Jute   \n",
       "Almonds, in shell                                       Fruits and vegetables   \n",
       "Anise, badian, coriander, cumin, caraway, fenne...      Fruits and vegetables   \n",
       "Apples                                                                 Fruits   \n",
       "\n",
       "                                                   IFAstat crop name, match 3  \\\n",
       "Faostat crop names                                                              \n",
       "Abaca, manila hemp, raw                                                Cotton   \n",
       "Agave fibres, raw, n.e.c.                                              Cotton   \n",
       "Almonds, in shell                                                      Fruits   \n",
       "Anise, badian, coriander, cumin, caraway, fenne...                fresh herbs   \n",
       "Apples                                                  Fruits and vegetables   \n",
       "\n",
       "                                                   IFAstat crop name, match 4  \\\n",
       "Faostat crop names                                                              \n",
       "Abaca, manila hemp, raw                                          Flax (fiber)   \n",
       "Agave fibres, raw, n.e.c.                                        Flax (fiber)   \n",
       "Almonds, in shell                                                     Orchard   \n",
       "Anise, badian, coriander, cumin, caraway, fenne...                 Vegetables   \n",
       "Apples                                                                Orchard   \n",
       "\n",
       "                                                             IFAstat crop name, match 5  \n",
       "Faostat crop names                                                                       \n",
       "Abaca, manila hemp, raw                             Other (including tobacco, poppy...)  \n",
       "Agave fibres, raw, n.e.c.                           Other (including tobacco, poppy...)  \n",
       "Almonds, in shell                                      Fruits (apples, citrus, oranges)  \n",
       "Anise, badian, coriander, cumin, caraway, fenne...                   Commercial Forests  \n",
       "Apples                                                                           citrus  "
      ]
     },
     "execution_count": 13,
     "metadata": {},
     "output_type": "execute_result"
    }
   ],
   "source": [
    "fao_ifa_match.head()"
   ]
  },
  {
   "cell_type": "code",
   "execution_count": null,
   "metadata": {},
   "outputs": [],
   "source": []
  }
 ],
 "metadata": {
  "kernelspec": {
   "display_name": "bonsait-xpG0IyNC-py3.11",
   "language": "python",
   "name": "python3"
  },
  "language_info": {
   "codemirror_mode": {
    "name": "ipython",
    "version": 3
   },
   "file_extension": ".py",
   "mimetype": "text/x-python",
   "name": "python",
   "nbconvert_exporter": "python",
   "pygments_lexer": "ipython3",
   "version": "3.11.6"
  }
 },
 "nbformat": 4,
 "nbformat_minor": 2
}
