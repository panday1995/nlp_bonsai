{
 "cells": [
  {
   "cell_type": "code",
   "execution_count": 1,
   "metadata": {},
   "outputs": [],
   "source": [
    "from sentence_transformers import SentenceTransformer, util\n",
    "import pandas as pd\n",
    "import sqlite3"
   ]
  },
  {
   "cell_type": "code",
   "execution_count": 6,
   "metadata": {},
   "outputs": [
    {
     "data": {
      "text/html": [
       "<div>\n",
       "<style scoped>\n",
       "    .dataframe tbody tr th:only-of-type {\n",
       "        vertical-align: middle;\n",
       "    }\n",
       "\n",
       "    .dataframe tbody tr th {\n",
       "        vertical-align: top;\n",
       "    }\n",
       "\n",
       "    .dataframe thead th {\n",
       "        text-align: right;\n",
       "    }\n",
       "</style>\n",
       "<table border=\"1\" class=\"dataframe\">\n",
       "  <thead>\n",
       "    <tr style=\"text-align: right;\">\n",
       "      <th></th>\n",
       "      <th>name_bonsai</th>\n",
       "      <th>name_external</th>\n",
       "      <th>source_external</th>\n",
       "    </tr>\n",
       "  </thead>\n",
       "  <tbody>\n",
       "    <tr>\n",
       "      <th>0</th>\n",
       "      <td>agave fibres nes</td>\n",
       "      <td>agave fibres nes, food and agriculture organiz...</td>\n",
       "      <td>food and agriculture organization corporate st...</td>\n",
       "    </tr>\n",
       "    <tr>\n",
       "      <th>1</th>\n",
       "      <td>alcohol, non-food purposes</td>\n",
       "      <td>alcohol, non-food purposes, food and agricultu...</td>\n",
       "      <td>food and agriculture organization corporate st...</td>\n",
       "    </tr>\n",
       "    <tr>\n",
       "      <th>2</th>\n",
       "      <td>almonds, shelled</td>\n",
       "      <td>almonds, shelled, food and agriculture organiz...</td>\n",
       "      <td>food and agriculture organization corporate st...</td>\n",
       "    </tr>\n",
       "    <tr>\n",
       "      <th>3</th>\n",
       "      <td>almonds</td>\n",
       "      <td>almonds, food and agriculture organization cor...</td>\n",
       "      <td>food and agriculture organization corporate st...</td>\n",
       "    </tr>\n",
       "    <tr>\n",
       "      <th>4</th>\n",
       "      <td>anise, badian, fennel</td>\n",
       "      <td>anise, badian, fennel, food and agriculture or...</td>\n",
       "      <td>food and agriculture organization corporate st...</td>\n",
       "    </tr>\n",
       "  </tbody>\n",
       "</table>\n",
       "</div>"
      ],
      "text/plain": [
       "                  name_bonsai  \\\n",
       "0            agave fibres nes   \n",
       "1  alcohol, non-food purposes   \n",
       "2            almonds, shelled   \n",
       "3                     almonds   \n",
       "4       anise, badian, fennel   \n",
       "\n",
       "                                       name_external  \\\n",
       "0  agave fibres nes, food and agriculture organiz...   \n",
       "1  alcohol, non-food purposes, food and agricultu...   \n",
       "2  almonds, shelled, food and agriculture organiz...   \n",
       "3  almonds, food and agriculture organization cor...   \n",
       "4  anise, badian, fennel, food and agriculture or...   \n",
       "\n",
       "                                     source_external  \n",
       "0  food and agriculture organization corporate st...  \n",
       "1  food and agriculture organization corporate st...  \n",
       "2  food and agriculture organization corporate st...  \n",
       "3  food and agriculture organization corporate st...  \n",
       "4  food and agriculture organization corporate st...  "
      ]
     },
     "execution_count": 6,
     "metadata": {},
     "output_type": "execute_result"
    }
   ],
   "source": [
    "conn = sqlite3.connect(\"../data/clean/correspondence.db\")\n",
    "sql_query = \"SELECT * FROM correspondence\"\n",
    "df_corr = pd.read_sql_query(sql_query, conn)\n",
    "df_corr[\"name_external\"] = df_corr[\"name_external\"] + \", \" + df_corr[\"source_external\"]\n",
    "df_corr.head()\n",
    "# df_exio2fao = df_exio2fao.drop_duplicates(subset=[\"Item\"], keep=\"first\").reset_index(drop=True)"
   ]
  },
  {
   "cell_type": "code",
   "execution_count": 7,
   "metadata": {},
   "outputs": [],
   "source": [
    "arr_bonsai= df_corr[\"name_bonsai\"].values\n",
    "arr_external= df_corr[\"name_external\"].values\n",
    "\n",
    "# cosine_score = calc_cosine_sim(\"all-mpnet-base-v2\", arr_external, arr_bonsai)\n",
    "# cosine_score = calc_cosine_sim(\"all-MiniLM-L6-v2\", arr_external, arr_bonsai)"
   ]
  },
  {
   "cell_type": "markdown",
   "metadata": {},
   "source": [
    "Encoder Models:\n",
    "- multi-qa-mpnet-base-dot-v1\n",
    "- all-MiniLM-L6-v2\n",
    "- all-mpnet-base-v2"
   ]
  },
  {
   "cell_type": "code",
   "execution_count": 86,
   "metadata": {},
   "outputs": [],
   "source": [
    "def calc_cosine_sim(model_name, sentence_src, sentence_target):\n",
    "    model = SentenceTransformer(model_name)\n",
    "    embedding_src = model.encode(sentence_src, convert_to_tensor=True)\n",
    "    embedding_target = model.encode(sentence_target, convert_to_tensor=True)\n",
    "    cosine_score = util.pytorch_cos_sim(embedding_src, embedding_target)\n",
    "    return cosine_score\n",
    "\n",
    "def match_classification(arr_external, arr_bonsai, model_name):\n",
    "    cosine_score = calc_cosine_sim(model_name, arr_external, arr_bonsai)\n",
    "    sorted_cs, indices = cosine_score.sort(dim=1, descending=True)\n",
    "    result_df = pd.DataFrame()\n",
    "    \n",
    "    for ix, product in enumerate(arr_external):\n",
    "        sorted_product_cs = sorted_cs[ix].cpu().numpy()\n",
    "        exio_ix = indices[ix].cpu().numpy()\n",
    "        result_df.loc[ix, \"name_external\"] = product\n",
    "        result_df.loc[ix, \"name_bonsai_\"+model_name] = df_corr.loc[exio_ix[0], \"name_bonsai\"]\n",
    "        result_df.loc[ix, 'cosine_score'] = float(\"{:.3f}\".format(sorted_product_cs[0]))\n",
    "    \n",
    "    df_merge = result_df.merge(\n",
    "        df_corr, \n",
    "        on=[\"name_external\"], \n",
    "        how=\"right\",\n",
    "        ).drop_duplicates()\n",
    "    df_merge[\"compare\"] = df_merge.apply(lambda row: row[\"name_bonsai_\"+ model_name] == row[\"name_bonsai\"], axis=1)\n",
    "    print(len(df_merge[df_merge[\"compare\"]==True])/len(df_merge))\n",
    "    return df_merge"
   ]
  },
  {
   "cell_type": "code",
   "execution_count": 87,
   "metadata": {},
   "outputs": [
    {
     "name": "stdout",
     "output_type": "stream",
     "text": [
      "0.5581818181818182\n"
     ]
    }
   ],
   "source": [
    "df_merge = match_classification(arr_external, arr_bonsai, \"multi-qa-mpnet-base-dot-v1\")"
   ]
  },
  {
   "cell_type": "code",
   "execution_count": 77,
   "metadata": {},
   "outputs": [
    {
     "data": {
      "text/html": [
       "<div>\n",
       "<style scoped>\n",
       "    .dataframe tbody tr th:only-of-type {\n",
       "        vertical-align: middle;\n",
       "    }\n",
       "\n",
       "    .dataframe tbody tr th {\n",
       "        vertical-align: top;\n",
       "    }\n",
       "\n",
       "    .dataframe thead th {\n",
       "        text-align: right;\n",
       "    }\n",
       "</style>\n",
       "<table border=\"1\" class=\"dataframe\">\n",
       "  <thead>\n",
       "    <tr style=\"text-align: right;\">\n",
       "      <th></th>\n",
       "      <th>name_external</th>\n",
       "      <th>name_bonsai_nlp</th>\n",
       "      <th>cosine_score</th>\n",
       "      <th>name_bonsai</th>\n",
       "      <th>source_external</th>\n",
       "    </tr>\n",
       "  </thead>\n",
       "  <tbody>\n",
       "    <tr>\n",
       "      <th>0</th>\n",
       "      <td>agave fibres nes, food and agriculture organiz...</td>\n",
       "      <td>agave fibres nes</td>\n",
       "      <td>0.765</td>\n",
       "      <td>agave fibres nes</td>\n",
       "      <td>food and agriculture organization corporate st...</td>\n",
       "    </tr>\n",
       "    <tr>\n",
       "      <th>1</th>\n",
       "      <td>alcohol, non-food purposes, food and agricultu...</td>\n",
       "      <td>alcohol, non-food purposes</td>\n",
       "      <td>0.693</td>\n",
       "      <td>alcohol, non-food purposes</td>\n",
       "      <td>food and agriculture organization corporate st...</td>\n",
       "    </tr>\n",
       "    <tr>\n",
       "      <th>2</th>\n",
       "      <td>almonds, shelled, food and agriculture organiz...</td>\n",
       "      <td>almonds, shelled</td>\n",
       "      <td>0.717</td>\n",
       "      <td>almonds, shelled</td>\n",
       "      <td>food and agriculture organization corporate st...</td>\n",
       "    </tr>\n",
       "    <tr>\n",
       "      <th>3</th>\n",
       "      <td>almonds, food and agriculture organization cor...</td>\n",
       "      <td>almonds</td>\n",
       "      <td>0.697</td>\n",
       "      <td>almonds</td>\n",
       "      <td>food and agriculture organization corporate st...</td>\n",
       "    </tr>\n",
       "    <tr>\n",
       "      <th>4</th>\n",
       "      <td>anise, badian, fennel, food and agriculture or...</td>\n",
       "      <td>anise, badian, fennel</td>\n",
       "      <td>0.703</td>\n",
       "      <td>anise, badian, fennel</td>\n",
       "      <td>food and agriculture organization corporate st...</td>\n",
       "    </tr>\n",
       "  </tbody>\n",
       "</table>\n",
       "</div>"
      ],
      "text/plain": [
       "                                       name_external  \\\n",
       "0  agave fibres nes, food and agriculture organiz...   \n",
       "1  alcohol, non-food purposes, food and agricultu...   \n",
       "2  almonds, shelled, food and agriculture organiz...   \n",
       "3  almonds, food and agriculture organization cor...   \n",
       "4  anise, badian, fennel, food and agriculture or...   \n",
       "\n",
       "              name_bonsai_nlp  cosine_score                 name_bonsai  \\\n",
       "0            agave fibres nes         0.765            agave fibres nes   \n",
       "1  alcohol, non-food purposes         0.693  alcohol, non-food purposes   \n",
       "2            almonds, shelled         0.717            almonds, shelled   \n",
       "3                     almonds         0.697                     almonds   \n",
       "4       anise, badian, fennel         0.703       anise, badian, fennel   \n",
       "\n",
       "                                     source_external  \n",
       "0  food and agriculture organization corporate st...  \n",
       "1  food and agriculture organization corporate st...  \n",
       "2  food and agriculture organization corporate st...  \n",
       "3  food and agriculture organization corporate st...  \n",
       "4  food and agriculture organization corporate st...  "
      ]
     },
     "execution_count": 77,
     "metadata": {},
     "output_type": "execute_result"
    }
   ],
   "source": [
    "len(df_merge), len(df_corr), len(result_df)\n",
    "df_merge.head()"
   ]
  },
  {
   "cell_type": "code",
   "execution_count": 35,
   "metadata": {},
   "outputs": [
    {
     "data": {
      "text/html": [
       "<div>\n",
       "<style scoped>\n",
       "    .dataframe tbody tr th:only-of-type {\n",
       "        vertical-align: middle;\n",
       "    }\n",
       "\n",
       "    .dataframe tbody tr th {\n",
       "        vertical-align: top;\n",
       "    }\n",
       "\n",
       "    .dataframe thead th {\n",
       "        text-align: right;\n",
       "    }\n",
       "</style>\n",
       "<table border=\"1\" class=\"dataframe\">\n",
       "  <thead>\n",
       "    <tr style=\"text-align: right;\">\n",
       "      <th></th>\n",
       "      <th>name_external</th>\n",
       "      <th>name_bonsai_nlp</th>\n",
       "      <th>cosine_score</th>\n",
       "      <th>name_bonsai</th>\n",
       "      <th>source_external</th>\n",
       "      <th>compare</th>\n",
       "    </tr>\n",
       "  </thead>\n",
       "  <tbody>\n",
       "    <tr>\n",
       "      <th>473</th>\n",
       "      <td>aquavit, 40 % vol., average values</td>\n",
       "      <td>juice, orange, single strength</td>\n",
       "      <td>0.407</td>\n",
       "      <td>beverages, distilled alcoholic</td>\n",
       "      <td>concito</td>\n",
       "      <td>False</td>\n",
       "    </tr>\n",
       "    <tr>\n",
       "      <th>1093</th>\n",
       "      <td>remoulade, average values</td>\n",
       "      <td>peppermint, spearmint</td>\n",
       "      <td>0.445</td>\n",
       "      <td>eggs, hen, in shell</td>\n",
       "      <td>concito</td>\n",
       "      <td>False</td>\n",
       "    </tr>\n",
       "    <tr>\n",
       "      <th>1095</th>\n",
       "      <td>remoulade, average values</td>\n",
       "      <td>peppermint, spearmint</td>\n",
       "      <td>0.445</td>\n",
       "      <td>oil, sunflower</td>\n",
       "      <td>concito</td>\n",
       "      <td>False</td>\n",
       "    </tr>\n",
       "    <tr>\n",
       "      <th>1359</th>\n",
       "      <td>water, tap, drinking, average values</td>\n",
       "      <td>steam and hot water supply services</td>\n",
       "      <td>0.448</td>\n",
       "      <td>food prep nes</td>\n",
       "      <td>concito</td>\n",
       "      <td>False</td>\n",
       "    </tr>\n",
       "    <tr>\n",
       "      <th>731</th>\n",
       "      <td>dumplings, average values</td>\n",
       "      <td>cake of kapok</td>\n",
       "      <td>0.459</td>\n",
       "      <td>pastry</td>\n",
       "      <td>concito</td>\n",
       "      <td>False</td>\n",
       "    </tr>\n",
       "    <tr>\n",
       "      <th>...</th>\n",
       "      <td>...</td>\n",
       "      <td>...</td>\n",
       "      <td>...</td>\n",
       "      <td>...</td>\n",
       "      <td>...</td>\n",
       "      <td>...</td>\n",
       "    </tr>\n",
       "    <tr>\n",
       "      <th>737</th>\n",
       "      <td>energy drink</td>\n",
       "      <td>beverages, distilled alcoholic</td>\n",
       "      <td>0.584</td>\n",
       "      <td>food prep nes</td>\n",
       "      <td>concito</td>\n",
       "      <td>False</td>\n",
       "    </tr>\n",
       "    <tr>\n",
       "      <th>1346</th>\n",
       "      <td>vegan nuggets, soy based</td>\n",
       "      <td>soybeans</td>\n",
       "      <td>0.584</td>\n",
       "      <td>soya paste</td>\n",
       "      <td>concito</td>\n",
       "      <td>False</td>\n",
       "    </tr>\n",
       "    <tr>\n",
       "      <th>617</th>\n",
       "      <td>celeriac, celery root, raw</td>\n",
       "      <td>lettuce and chicory</td>\n",
       "      <td>0.584</td>\n",
       "      <td>roots and tubers nes</td>\n",
       "      <td>concito</td>\n",
       "      <td>False</td>\n",
       "    </tr>\n",
       "    <tr>\n",
       "      <th>1272</th>\n",
       "      <td>spring roll, frozen, ready meals</td>\n",
       "      <td>oats, rolled</td>\n",
       "      <td>0.585</td>\n",
       "      <td>fonio</td>\n",
       "      <td>concito</td>\n",
       "      <td>False</td>\n",
       "    </tr>\n",
       "    <tr>\n",
       "      <th>732</th>\n",
       "      <td>dumplings, frozen</td>\n",
       "      <td>potatoes, frozen</td>\n",
       "      <td>0.586</td>\n",
       "      <td>pastry</td>\n",
       "      <td>concito</td>\n",
       "      <td>False</td>\n",
       "    </tr>\n",
       "  </tbody>\n",
       "</table>\n",
       "<p>100 rows × 6 columns</p>\n",
       "</div>"
      ],
      "text/plain": [
       "                             name_external  \\\n",
       "473     aquavit, 40 % vol., average values   \n",
       "1093             remoulade, average values   \n",
       "1095             remoulade, average values   \n",
       "1359  water, tap, drinking, average values   \n",
       "731              dumplings, average values   \n",
       "...                                    ...   \n",
       "737                           energy drink   \n",
       "1346              vegan nuggets, soy based   \n",
       "617             celeriac, celery root, raw   \n",
       "1272      spring roll, frozen, ready meals   \n",
       "732                      dumplings, frozen   \n",
       "\n",
       "                          name_bonsai_nlp  cosine_score  \\\n",
       "473        juice, orange, single strength         0.407   \n",
       "1093                peppermint, spearmint         0.445   \n",
       "1095                peppermint, spearmint         0.445   \n",
       "1359  steam and hot water supply services         0.448   \n",
       "731                         cake of kapok         0.459   \n",
       "...                                   ...           ...   \n",
       "737        beverages, distilled alcoholic         0.584   \n",
       "1346                             soybeans         0.584   \n",
       "617                   lettuce and chicory         0.584   \n",
       "1272                         oats, rolled         0.585   \n",
       "732                      potatoes, frozen         0.586   \n",
       "\n",
       "                         name_bonsai source_external  compare  \n",
       "473   beverages, distilled alcoholic         concito    False  \n",
       "1093             eggs, hen, in shell         concito    False  \n",
       "1095                  oil, sunflower         concito    False  \n",
       "1359                   food prep nes         concito    False  \n",
       "731                           pastry         concito    False  \n",
       "...                              ...             ...      ...  \n",
       "737                    food prep nes         concito    False  \n",
       "1346                      soya paste         concito    False  \n",
       "617             roots and tubers nes         concito    False  \n",
       "1272                           fonio         concito    False  \n",
       "732                           pastry         concito    False  \n",
       "\n",
       "[100 rows x 6 columns]"
      ]
     },
     "execution_count": 35,
     "metadata": {},
     "output_type": "execute_result"
    }
   ],
   "source": [
    "df_merge.sort_values(by=\"cosine_score\", ascending=True).head(10)\n",
    "df_merge[df_merge[\"compare\"]==False]"
   ]
  },
  {
   "cell_type": "code",
   "execution_count": 15,
   "metadata": {},
   "outputs": [],
   "source": [
    "from transformers import BertTokenizer, BertModel\n",
    "import torch\n",
    "from torch.nn.functional import cosine_similarity\n",
    "import pandas as pd\n",
    "from torch import Tensor, device\n",
    "\n",
    "# Initialize BERT tokenizer and model\n",
    "model_name = 'bert-base-uncased'\n",
    "tokenizer = BertTokenizer.from_pretrained(model_name)\n",
    "model = BertModel.from_pretrained(model_name)\n",
    "device = device(\"cuda\")\n",
    "model = model.to(device)\n",
    "def encode_sentences(sentences):\n",
    "    tokens = tokenizer(sentences, padding=True, truncation=True, return_tensors='pt')\n",
    "\n",
    "    tokens = {key: value.to(device) for key, value in tokens.items()}\n",
    "    \n",
    "    with torch.no_grad():\n",
    "        outputs = model(**tokens)\n",
    "    embeddings = outputs.last_hidden_state[:, 0, :]  # Use the [CLS] token embeddings as the sentence representation\n",
    "    return embeddings\n",
    "    \n",
    "def cos_sim(a: Tensor, b: Tensor):\n",
    "    \"\"\"\n",
    "    Computes the cosine similarity cos_sim(a[i], b[j]) for all i and j.\n",
    "    :return: Matrix with res[i][j]  = cos_sim(a[i], b[j])\n",
    "    \"\"\"\n",
    "    if not isinstance(a, torch.Tensor):\n",
    "        a = torch.tensor(a)\n",
    "\n",
    "    if not isinstance(b, torch.Tensor):\n",
    "        b = torch.tensor(b)\n",
    "\n",
    "    if len(a.shape) == 1:\n",
    "        a = a.unsqueeze(0)\n",
    "\n",
    "    if len(b.shape) == 1:\n",
    "        b = b.unsqueeze(0)\n",
    "\n",
    "    a_norm = torch.nn.functional.normalize(a, p=2, dim=1)\n",
    "    b_norm = torch.nn.functional.normalize(b, p=2, dim=1)\n",
    "    return torch.mm(a_norm, b_norm.transpose(0, 1))\n",
    "    \n",
    "source_sentence = [\"buffaloes\"]# arr_external.tolist()\n",
    "source_embedding = encode_sentences(source_sentence)\n",
    "target_sentence = arr_bonsai.tolist()#[\"buffalo meat\", \"buffalos - meat (live)\"]\n",
    "target_embedding = encode_sentences(target_sentence)"
   ]
  },
  {
   "cell_type": "code",
   "execution_count": 10,
   "metadata": {},
   "outputs": [],
   "source": [
    "similarity = cos_sim(source_embedding, target_embedding)\n",
    "sorted_cs, indices = similarity.sort(dim=1, descending=True)"
   ]
  },
  {
   "cell_type": "code",
   "execution_count": 11,
   "metadata": {},
   "outputs": [
    {
     "data": {
      "text/plain": [
       "tensor([[0.7917, 0.6685, 0.8130,  ..., 0.7827, 0.7827, 0.6732]],\n",
       "       device='cuda:0')"
      ]
     },
     "execution_count": 11,
     "metadata": {},
     "output_type": "execute_result"
    }
   ],
   "source": [
    "similarity"
   ]
  },
  {
   "cell_type": "code",
   "execution_count": 31,
   "metadata": {},
   "outputs": [
    {
     "name": "stdout",
     "output_type": "stream",
     "text": [
      "The most similar product is: yams\n"
     ]
    }
   ],
   "source": [
    "indices_np = indices.cpu().numpy()\n",
    "\n",
    "most_similar_index = indices_np[0,2]\n",
    "most_similar_product_ls = target_sentence[most_similar_index]\n",
    "\n",
    "print(\"The most similar product is:\", most_similar_product)"
   ]
  },
  {
   "cell_type": "code",
   "execution_count": 37,
   "metadata": {},
   "outputs": [
    {
     "data": {
      "text/plain": [
       "52"
      ]
     },
     "execution_count": 37,
     "metadata": {},
     "output_type": "execute_result"
    }
   ],
   "source": [
    "most_similar_index = indices_np[0,2]\n",
    "most_similar_index"
   ]
  },
  {
   "cell_type": "code",
   "execution_count": 38,
   "metadata": {},
   "outputs": [
    {
     "data": {
      "text/plain": [
       "'buffalos - meat (live)'"
      ]
     },
     "execution_count": 38,
     "metadata": {},
     "output_type": "execute_result"
    }
   ],
   "source": [
    "target_sentence[52]"
   ]
  },
  {
   "cell_type": "code",
   "execution_count": null,
   "metadata": {},
   "outputs": [],
   "source": []
  }
 ],
 "metadata": {
  "kernelspec": {
   "display_name": "Python 3 (ipykernel)",
   "language": "python",
   "name": "python3"
  },
  "language_info": {
   "codemirror_mode": {
    "name": "ipython",
    "version": 3
   },
   "file_extension": ".py",
   "mimetype": "text/x-python",
   "name": "python",
   "nbconvert_exporter": "python",
   "pygments_lexer": "ipython3",
   "version": "3.11.6"
  }
 },
 "nbformat": 4,
 "nbformat_minor": 4
}
