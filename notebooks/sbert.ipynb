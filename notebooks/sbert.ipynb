{
 "cells": [
  {
   "cell_type": "code",
   "execution_count": 1,
   "metadata": {},
   "outputs": [],
   "source": [
    "from sentence_transformers import SentenceTransformer, util\n",
    "import pandas as pd"
   ]
  },
  {
   "cell_type": "code",
   "execution_count": 2,
   "metadata": {},
   "outputs": [
    {
     "data": {
      "application/vnd.jupyter.widget-view+json": {
       "model_id": "7ad29d35943f423bbdeb2d49696061d9",
       "version_major": 2,
       "version_minor": 0
      },
      "text/plain": [
       "Downloading (…)a8e1d/.gitattributes:   0%|          | 0.00/1.18k [00:00<?, ?B/s]"
      ]
     },
     "metadata": {},
     "output_type": "display_data"
    },
    {
     "data": {
      "application/vnd.jupyter.widget-view+json": {
       "model_id": "24e1131e23b749b89cbf023f7a169aa1",
       "version_major": 2,
       "version_minor": 0
      },
      "text/plain": [
       "Downloading (…)_Pooling/config.json:   0%|          | 0.00/190 [00:00<?, ?B/s]"
      ]
     },
     "metadata": {},
     "output_type": "display_data"
    },
    {
     "data": {
      "application/vnd.jupyter.widget-view+json": {
       "model_id": "6531394be4524d6fadb839040c0fd50b",
       "version_major": 2,
       "version_minor": 0
      },
      "text/plain": [
       "Downloading (…)b20bca8e1d/README.md:   0%|          | 0.00/10.6k [00:00<?, ?B/s]"
      ]
     },
     "metadata": {},
     "output_type": "display_data"
    },
    {
     "data": {
      "application/vnd.jupyter.widget-view+json": {
       "model_id": "147cea9828ad424a8832f38c7568c3c1",
       "version_major": 2,
       "version_minor": 0
      },
      "text/plain": [
       "Downloading (…)0bca8e1d/config.json:   0%|          | 0.00/571 [00:00<?, ?B/s]"
      ]
     },
     "metadata": {},
     "output_type": "display_data"
    },
    {
     "data": {
      "application/vnd.jupyter.widget-view+json": {
       "model_id": "8716225bd4a34f5995c501367c68fa7e",
       "version_major": 2,
       "version_minor": 0
      },
      "text/plain": [
       "Downloading (…)ce_transformers.json:   0%|          | 0.00/116 [00:00<?, ?B/s]"
      ]
     },
     "metadata": {},
     "output_type": "display_data"
    },
    {
     "data": {
      "application/vnd.jupyter.widget-view+json": {
       "model_id": "c957564c54bd40af80ad56e3d31fa8d4",
       "version_major": 2,
       "version_minor": 0
      },
      "text/plain": [
       "Downloading (…)e1d/data_config.json:   0%|          | 0.00/39.3k [00:00<?, ?B/s]"
      ]
     },
     "metadata": {},
     "output_type": "display_data"
    },
    {
     "data": {
      "application/vnd.jupyter.widget-view+json": {
       "model_id": "462d95c1ec384d70852614b7003c92a3",
       "version_major": 2,
       "version_minor": 0
      },
      "text/plain": [
       "Downloading pytorch_model.bin:   0%|          | 0.00/438M [00:00<?, ?B/s]"
      ]
     },
     "metadata": {},
     "output_type": "display_data"
    },
    {
     "data": {
      "application/vnd.jupyter.widget-view+json": {
       "model_id": "a588f3fad29b467e8ada1829e43c25da",
       "version_major": 2,
       "version_minor": 0
      },
      "text/plain": [
       "Downloading (…)nce_bert_config.json:   0%|          | 0.00/53.0 [00:00<?, ?B/s]"
      ]
     },
     "metadata": {},
     "output_type": "display_data"
    },
    {
     "data": {
      "application/vnd.jupyter.widget-view+json": {
       "model_id": "8164cbf55e9d4d0fb5a93b2e7b8a932b",
       "version_major": 2,
       "version_minor": 0
      },
      "text/plain": [
       "Downloading (…)cial_tokens_map.json:   0%|          | 0.00/239 [00:00<?, ?B/s]"
      ]
     },
     "metadata": {},
     "output_type": "display_data"
    },
    {
     "data": {
      "application/vnd.jupyter.widget-view+json": {
       "model_id": "05fc66f57d924525a69242353933895a",
       "version_major": 2,
       "version_minor": 0
      },
      "text/plain": [
       "Downloading (…)a8e1d/tokenizer.json:   0%|          | 0.00/466k [00:00<?, ?B/s]"
      ]
     },
     "metadata": {},
     "output_type": "display_data"
    },
    {
     "data": {
      "application/vnd.jupyter.widget-view+json": {
       "model_id": "11039f0e16e54967aa4d50c2e799b046",
       "version_major": 2,
       "version_minor": 0
      },
      "text/plain": [
       "Downloading (…)okenizer_config.json:   0%|          | 0.00/363 [00:00<?, ?B/s]"
      ]
     },
     "metadata": {},
     "output_type": "display_data"
    },
    {
     "data": {
      "application/vnd.jupyter.widget-view+json": {
       "model_id": "e1e2dfcee3a24e4c863b744535879cd1",
       "version_major": 2,
       "version_minor": 0
      },
      "text/plain": [
       "Downloading (…)8e1d/train_script.py:   0%|          | 0.00/13.1k [00:00<?, ?B/s]"
      ]
     },
     "metadata": {},
     "output_type": "display_data"
    },
    {
     "data": {
      "application/vnd.jupyter.widget-view+json": {
       "model_id": "39f7050764f94740a243b72d26a029fb",
       "version_major": 2,
       "version_minor": 0
      },
      "text/plain": [
       "Downloading (…)b20bca8e1d/vocab.txt:   0%|          | 0.00/232k [00:00<?, ?B/s]"
      ]
     },
     "metadata": {},
     "output_type": "display_data"
    },
    {
     "data": {
      "application/vnd.jupyter.widget-view+json": {
       "model_id": "a0384ccf58694fad8a83be065934c267",
       "version_major": 2,
       "version_minor": 0
      },
      "text/plain": [
       "Downloading (…)bca8e1d/modules.json:   0%|          | 0.00/349 [00:00<?, ?B/s]"
      ]
     },
     "metadata": {},
     "output_type": "display_data"
    }
   ],
   "source": [
    "model = SentenceTransformer(\"all-mpnet-base-v2\")"
   ]
  },
  {
   "cell_type": "code",
   "execution_count": 3,
   "metadata": {},
   "outputs": [],
   "source": [
    "def calc_cosine_sim(model_name, sentence_src, sentence_target):\n",
    "    model = SentenceTransformer(model_name)\n",
    "    embedding_src = model.encode(sentence_src, convert_to_tensor=True)\n",
    "    embedding_target = model.encode(sentence_target, convert_to_tensor=True)\n",
    "    cosine_score = util.pytorch_cos_sim(embedding_src, embedding_target)\n",
    "    return cosine_score"
   ]
  },
  {
   "cell_type": "code",
   "execution_count": 10,
   "metadata": {},
   "outputs": [
    {
     "name": "stdout",
     "output_type": "stream",
     "text": [
      "tensor([[0.5636, 0.2342],\n",
      "        [0.5657, 0.2196],\n",
      "        [0.6394, 0.3758]])\n"
     ]
    }
   ],
   "source": [
    "cosine_score = calc_cosine_sim(\"all-mpnet-base-v2\", [\"raw milk\", \"bean milk\", \"milk\"], [\"milk industry\", \"cookie\"])\n",
    "print(cosine_score)"
   ]
  },
  {
   "cell_type": "code",
   "execution_count": 7,
   "metadata": {},
   "outputs": [],
   "source": [
    "df_exio2fao = pd.read_excel(\"./data/Exio4_vs_FCL.xlsx\", sheet_name=\"Exio4_vs_FAO\")"
   ]
  },
  {
   "cell_type": "code",
   "execution_count": 8,
   "metadata": {},
   "outputs": [
    {
     "data": {
      "text/html": [
       "<div>\n",
       "<style scoped>\n",
       "    .dataframe tbody tr th:only-of-type {\n",
       "        vertical-align: middle;\n",
       "    }\n",
       "\n",
       "    .dataframe tbody tr th {\n",
       "        vertical-align: top;\n",
       "    }\n",
       "\n",
       "    .dataframe thead th {\n",
       "        text-align: right;\n",
       "    }\n",
       "</style>\n",
       "<table border=\"1\" class=\"dataframe\">\n",
       "  <thead>\n",
       "    <tr style=\"text-align: right;\">\n",
       "      <th></th>\n",
       "      <th>description</th>\n",
       "      <th>Exio prod code</th>\n",
       "      <th>Item</th>\n",
       "      <th>Item code</th>\n",
       "      <th>Unnamed: 4</th>\n",
       "      <th>Unnamed: 5</th>\n",
       "    </tr>\n",
       "  </thead>\n",
       "  <tbody>\n",
       "    <tr>\n",
       "      <th>0</th>\n",
       "      <td>Agave fibres nes</td>\n",
       "      <td>C_Agavs</td>\n",
       "      <td>Agave fibres nes</td>\n",
       "      <td>800</td>\n",
       "      <td>NaN</td>\n",
       "      <td>NaN</td>\n",
       "    </tr>\n",
       "    <tr>\n",
       "      <th>1</th>\n",
       "      <td>Alcohol, Non-Food Purposes</td>\n",
       "      <td>C_Alc_food</td>\n",
       "      <td>Alcohol, Non-Food Purposes</td>\n",
       "      <td>632</td>\n",
       "      <td>NaN</td>\n",
       "      <td>NaN</td>\n",
       "    </tr>\n",
       "    <tr>\n",
       "      <th>2</th>\n",
       "      <td>Almonds, Shelled</td>\n",
       "      <td>C_Almod</td>\n",
       "      <td>Almonds, Shelled</td>\n",
       "      <td>231</td>\n",
       "      <td>NaN</td>\n",
       "      <td>NaN</td>\n",
       "    </tr>\n",
       "    <tr>\n",
       "      <th>3</th>\n",
       "      <td>Almonds</td>\n",
       "      <td>C_Almol</td>\n",
       "      <td>Almonds</td>\n",
       "      <td>221</td>\n",
       "      <td>NaN</td>\n",
       "      <td>NaN</td>\n",
       "    </tr>\n",
       "    <tr>\n",
       "      <th>4</th>\n",
       "      <td>Anise, badian, fennel</td>\n",
       "      <td>C_Anisr</td>\n",
       "      <td>Anise, badian, fennel</td>\n",
       "      <td>711</td>\n",
       "      <td>NaN</td>\n",
       "      <td>NaN</td>\n",
       "    </tr>\n",
       "  </tbody>\n",
       "</table>\n",
       "</div>"
      ],
      "text/plain": [
       "                  description Exio prod code                        Item  \\\n",
       "0            Agave fibres nes        C_Agavs            Agave fibres nes   \n",
       "1  Alcohol, Non-Food Purposes     C_Alc_food  Alcohol, Non-Food Purposes   \n",
       "2            Almonds, Shelled        C_Almod            Almonds, Shelled   \n",
       "3                     Almonds        C_Almol                     Almonds   \n",
       "4       Anise, badian, fennel        C_Anisr       Anise, badian, fennel   \n",
       "\n",
       "   Item code  Unnamed: 4  Unnamed: 5  \n",
       "0        800         NaN         NaN  \n",
       "1        632         NaN         NaN  \n",
       "2        231         NaN         NaN  \n",
       "3        221         NaN         NaN  \n",
       "4        711         NaN         NaN  "
      ]
     },
     "execution_count": 8,
     "metadata": {},
     "output_type": "execute_result"
    }
   ],
   "source": [
    "df_exio2fao.head()"
   ]
  },
  {
   "cell_type": "code",
   "execution_count": 11,
   "metadata": {},
   "outputs": [
    {
     "name": "stdout",
     "output_type": "stream",
     "text": [
      "tensor([[1.0000, 0.2131, 0.4257,  ..., 0.3369, 0.3369, 0.3369],\n",
      "        [0.2131, 1.0000, 0.2554,  ..., 0.3740, 0.3740, 0.3740],\n",
      "        [0.4257, 0.2554, 1.0000,  ..., 0.3356, 0.3356, 0.3356],\n",
      "        ...,\n",
      "        [0.1495, 0.1134, 0.2362,  ..., 0.2224, 0.2224, 0.2224],\n",
      "        [0.1783, 0.1481, 0.1615,  ..., 0.3190, 0.3190, 0.3190],\n",
      "        [0.1569, 0.1499, 0.1938,  ..., 0.3497, 0.3497, 0.3497]])\n"
     ]
    }
   ],
   "source": [
    "arr_exio_descrip = df_exio2fao[\"description\"].values\n",
    "arr_fao_descrip = df_exio2fao[\"Item\"].values\n",
    "\n",
    "cosine_score = calc_cosine_sim(\"all-mpnet-base-v2\", arr_fao_descrip, arr_exio_descrip)\n",
    "print(cosine_score)\n"
   ]
  },
  {
   "cell_type": "code",
   "execution_count": 13,
   "metadata": {},
   "outputs": [],
   "source": [
    "sorted_cs, indices = cosine_score.sort(dim=1, descending=True)"
   ]
  },
  {
   "cell_type": "code",
   "execution_count": 16,
   "metadata": {},
   "outputs": [
    {
     "data": {
      "text/plain": [
       "tensor([1.0000, 0.6546, 0.5861, 0.5626, 0.5504, 0.5399, 0.5174, 0.5140, 0.5135,\n",
       "        0.5129, 0.5118, 0.5048, 0.5031, 0.5021, 0.4977, 0.4962, 0.4836, 0.4827,\n",
       "        0.4820, 0.4798, 0.4785, 0.4784, 0.4745, 0.4744, 0.4729, 0.4659, 0.4659,\n",
       "        0.4646, 0.4612, 0.4601, 0.4576, 0.4572, 0.4559, 0.4558, 0.4553, 0.4534,\n",
       "        0.4526, 0.4514, 0.4493, 0.4487, 0.4472, 0.4468, 0.4452, 0.4452, 0.4431,\n",
       "        0.4410, 0.4408, 0.4396, 0.4382, 0.4345, 0.4342, 0.4331, 0.4322, 0.4310,\n",
       "        0.4290, 0.4283, 0.4280, 0.4274, 0.4270, 0.4257, 0.4252, 0.4247, 0.4246,\n",
       "        0.4236, 0.4234, 0.4208, 0.4201, 0.4196, 0.4175, 0.4162, 0.4149, 0.4134,\n",
       "        0.4104, 0.4102, 0.4096, 0.4085, 0.4085, 0.4072, 0.4066, 0.4059, 0.4052,\n",
       "        0.4025, 0.4017, 0.4005, 0.3998, 0.3987, 0.3987, 0.3983, 0.3980, 0.3978,\n",
       "        0.3968, 0.3964, 0.3964, 0.3961, 0.3955, 0.3946, 0.3942, 0.3941, 0.3926,\n",
       "        0.3916, 0.3913, 0.3906, 0.3903, 0.3897, 0.3895, 0.3890, 0.3876, 0.3871,\n",
       "        0.3861, 0.3853, 0.3852, 0.3850, 0.3843, 0.3841, 0.3820, 0.3806, 0.3803,\n",
       "        0.3801, 0.3799, 0.3798, 0.3795, 0.3788, 0.3757, 0.3755, 0.3753, 0.3735,\n",
       "        0.3734, 0.3732, 0.3721, 0.3708, 0.3708, 0.3707, 0.3693, 0.3690, 0.3679,\n",
       "        0.3665, 0.3660, 0.3656, 0.3640, 0.3620, 0.3615, 0.3607, 0.3605, 0.3597,\n",
       "        0.3597, 0.3594, 0.3592, 0.3590, 0.3590, 0.3584, 0.3577, 0.3576, 0.3571,\n",
       "        0.3567, 0.3544, 0.3535, 0.3522, 0.3521, 0.3519, 0.3516, 0.3516, 0.3492,\n",
       "        0.3490, 0.3489, 0.3488, 0.3488, 0.3487, 0.3484, 0.3473, 0.3473, 0.3472,\n",
       "        0.3467, 0.3456, 0.3435, 0.3434, 0.3431, 0.3428, 0.3423, 0.3421, 0.3413,\n",
       "        0.3412, 0.3410, 0.3402, 0.3389, 0.3380, 0.3373, 0.3369, 0.3369, 0.3369,\n",
       "        0.3369, 0.3362, 0.3362, 0.3360, 0.3356, 0.3349, 0.3349, 0.3341, 0.3338,\n",
       "        0.3329, 0.3298, 0.3296, 0.3296, 0.3288, 0.3283, 0.3281, 0.3269, 0.3261,\n",
       "        0.3260, 0.3251, 0.3247, 0.3247, 0.3229, 0.3225, 0.3222, 0.3220, 0.3218,\n",
       "        0.3215, 0.3203, 0.3203, 0.3201, 0.3188, 0.3188, 0.3184, 0.3184, 0.3171,\n",
       "        0.3160, 0.3154, 0.3152, 0.3152, 0.3151, 0.3151, 0.3135, 0.3133, 0.3132,\n",
       "        0.3132, 0.3127, 0.3121, 0.3120, 0.3112, 0.3110, 0.3108, 0.3100, 0.3092,\n",
       "        0.3066, 0.3065, 0.3063, 0.3060, 0.3058, 0.3058, 0.3053, 0.3051, 0.3043,\n",
       "        0.3043, 0.3042, 0.3028, 0.3020, 0.3019, 0.3019, 0.3005, 0.3002, 0.2996,\n",
       "        0.2995, 0.2993, 0.2987, 0.2985, 0.2980, 0.2973, 0.2972, 0.2969, 0.2957,\n",
       "        0.2953, 0.2947, 0.2944, 0.2942, 0.2929, 0.2923, 0.2920, 0.2917, 0.2892,\n",
       "        0.2890, 0.2887, 0.2886, 0.2880, 0.2877, 0.2876, 0.2875, 0.2869, 0.2869,\n",
       "        0.2864, 0.2861, 0.2855, 0.2831, 0.2828, 0.2823, 0.2821, 0.2818, 0.2814,\n",
       "        0.2813, 0.2811, 0.2811, 0.2811, 0.2809, 0.2804, 0.2791, 0.2790, 0.2789,\n",
       "        0.2788, 0.2787, 0.2787, 0.2785, 0.2782, 0.2774, 0.2773, 0.2770, 0.2761,\n",
       "        0.2757, 0.2755, 0.2750, 0.2745, 0.2744, 0.2744, 0.2738, 0.2734, 0.2731,\n",
       "        0.2727, 0.2727, 0.2723, 0.2719, 0.2707, 0.2701, 0.2691, 0.2688, 0.2661,\n",
       "        0.2660, 0.2634, 0.2618, 0.2609, 0.2600, 0.2598, 0.2597, 0.2570, 0.2566,\n",
       "        0.2562, 0.2532, 0.2528, 0.2520, 0.2518, 0.2508, 0.2499, 0.2497, 0.2495,\n",
       "        0.2488, 0.2483, 0.2479, 0.2463, 0.2451, 0.2440, 0.2439, 0.2438, 0.2438,\n",
       "        0.2438, 0.2425, 0.2411, 0.2400, 0.2397, 0.2394, 0.2393, 0.2391, 0.2390,\n",
       "        0.2390, 0.2384, 0.2368, 0.2366, 0.2365, 0.2353, 0.2353, 0.2342, 0.2336,\n",
       "        0.2326, 0.2320, 0.2319, 0.2299, 0.2272, 0.2230, 0.2228, 0.2210, 0.2198,\n",
       "        0.2193, 0.2189, 0.2171, 0.2160, 0.2159, 0.2150, 0.2131, 0.2123, 0.2112,\n",
       "        0.2102, 0.2081, 0.2080, 0.2078, 0.2069, 0.2057, 0.2052, 0.2041, 0.2018,\n",
       "        0.2014, 0.2000, 0.1990, 0.1978, 0.1975, 0.1973, 0.1944, 0.1941, 0.1911,\n",
       "        0.1897, 0.1892, 0.1883, 0.1873, 0.1873, 0.1872, 0.1833, 0.1817, 0.1812,\n",
       "        0.1788, 0.1787, 0.1755, 0.1743, 0.1730, 0.1724, 0.1708, 0.1696, 0.1692,\n",
       "        0.1688, 0.1611, 0.1601, 0.1583, 0.1565, 0.1558, 0.1552, 0.1547, 0.1522,\n",
       "        0.1504, 0.1440, 0.1420, 0.1389, 0.1378, 0.1363, 0.1312, 0.1267, 0.1241,\n",
       "        0.1159, 0.1136, 0.1132, 0.0901, 0.0638, 0.0528])"
      ]
     },
     "execution_count": 16,
     "metadata": {},
     "output_type": "execute_result"
    }
   ],
   "source": [
    "sorted_cs[0]"
   ]
  },
  {
   "cell_type": "code",
   "execution_count": 17,
   "metadata": {},
   "outputs": [],
   "source": [
    "result_df = pd.DataFrame()\n",
    "\n",
    "for ix, product in enumerate(arr_fao_descrip):\n",
    "    sorted_product_cs = sorted_cs[ix].cpu().numpy()\n",
    "    exio_ix = indices[ix].cpu().numpy()\n",
    "    result_df.loc[ix, \"fao_description\"] = product\n",
    "    result_df.loc[ix, \"exio_description\"] = df_exio2fao.loc[exio_ix[0], \"description\"]\n",
    "    result_df.loc[ix, \"exio_code\"] = df_exio2fao.loc[exio_ix[0], \"Exio prod code\"]\n",
    "    result_df.loc[ix, 'cosine_score'] = float(\"{:.3f}\".format(sorted_product_cs[0]))\n"
   ]
  },
  {
   "cell_type": "code",
   "execution_count": 19,
   "metadata": {},
   "outputs": [
    {
     "data": {
      "text/html": [
       "<div>\n",
       "<style scoped>\n",
       "    .dataframe tbody tr th:only-of-type {\n",
       "        vertical-align: middle;\n",
       "    }\n",
       "\n",
       "    .dataframe tbody tr th {\n",
       "        vertical-align: top;\n",
       "    }\n",
       "\n",
       "    .dataframe thead th {\n",
       "        text-align: right;\n",
       "    }\n",
       "</style>\n",
       "<table border=\"1\" class=\"dataframe\">\n",
       "  <thead>\n",
       "    <tr style=\"text-align: right;\">\n",
       "      <th></th>\n",
       "      <th>fao_description</th>\n",
       "      <th>exio_description</th>\n",
       "      <th>exio_code</th>\n",
       "      <th>cosine_score</th>\n",
       "    </tr>\n",
       "  </thead>\n",
       "  <tbody>\n",
       "    <tr>\n",
       "      <th>451</th>\n",
       "      <td>Ducks</td>\n",
       "      <td>Duck meat</td>\n",
       "      <td>C_Meat_duck</td>\n",
       "      <td>0.562</td>\n",
       "    </tr>\n",
       "    <tr>\n",
       "      <th>452</th>\n",
       "      <td>Turkeys</td>\n",
       "      <td>Turkey meat</td>\n",
       "      <td>C_Meat_turk</td>\n",
       "      <td>0.725</td>\n",
       "    </tr>\n",
       "    <tr>\n",
       "      <th>453</th>\n",
       "      <td>Asses</td>\n",
       "      <td>Meat of asses</td>\n",
       "      <td>C_Meat_ass</td>\n",
       "      <td>0.602</td>\n",
       "    </tr>\n",
       "    <tr>\n",
       "      <th>454</th>\n",
       "      <td>Horses</td>\n",
       "      <td>Offals of horses</td>\n",
       "      <td>C_Offas_hors</td>\n",
       "      <td>0.711</td>\n",
       "    </tr>\n",
       "    <tr>\n",
       "      <th>455</th>\n",
       "      <td>Rabbits</td>\n",
       "      <td>Rabbit meat</td>\n",
       "      <td>C_Meat_rabb</td>\n",
       "      <td>0.619</td>\n",
       "    </tr>\n",
       "  </tbody>\n",
       "</table>\n",
       "</div>"
      ],
      "text/plain": [
       "    fao_description  exio_description     exio_code  cosine_score\n",
       "451           Ducks         Duck meat   C_Meat_duck         0.562\n",
       "452         Turkeys       Turkey meat   C_Meat_turk         0.725\n",
       "453           Asses     Meat of asses    C_Meat_ass         0.602\n",
       "454          Horses  Offals of horses  C_Offas_hors         0.711\n",
       "455         Rabbits       Rabbit meat   C_Meat_rabb         0.619"
      ]
     },
     "execution_count": 19,
     "metadata": {},
     "output_type": "execute_result"
    }
   ],
   "source": [
    "result_df.tail()"
   ]
  },
  {
   "cell_type": "code",
   "execution_count": 20,
   "metadata": {},
   "outputs": [
    {
     "data": {
      "text/html": [
       "<div>\n",
       "<style scoped>\n",
       "    .dataframe tbody tr th:only-of-type {\n",
       "        vertical-align: middle;\n",
       "    }\n",
       "\n",
       "    .dataframe tbody tr th {\n",
       "        vertical-align: top;\n",
       "    }\n",
       "\n",
       "    .dataframe thead th {\n",
       "        text-align: right;\n",
       "    }\n",
       "</style>\n",
       "<table border=\"1\" class=\"dataframe\">\n",
       "  <thead>\n",
       "    <tr style=\"text-align: right;\">\n",
       "      <th></th>\n",
       "      <th>description</th>\n",
       "      <th>Exio prod code</th>\n",
       "      <th>Item</th>\n",
       "      <th>Item code</th>\n",
       "      <th>Unnamed: 4</th>\n",
       "      <th>Unnamed: 5</th>\n",
       "    </tr>\n",
       "  </thead>\n",
       "  <tbody>\n",
       "    <tr>\n",
       "      <th>451</th>\n",
       "      <td>Poultry - Meat (live)</td>\n",
       "      <td>C_Polmeat</td>\n",
       "      <td>Ducks</td>\n",
       "      <td>1068</td>\n",
       "      <td>NaN</td>\n",
       "      <td>NaN</td>\n",
       "    </tr>\n",
       "  </tbody>\n",
       "</table>\n",
       "</div>"
      ],
      "text/plain": [
       "               description Exio prod code   Item  Item code  Unnamed: 4  \\\n",
       "451  Poultry - Meat (live)      C_Polmeat  Ducks       1068         NaN   \n",
       "\n",
       "     Unnamed: 5  \n",
       "451         NaN  "
      ]
     },
     "execution_count": 20,
     "metadata": {},
     "output_type": "execute_result"
    }
   ],
   "source": [
    "df_exio2fao.loc[df_exio2fao[\"Item\"]==\"Ducks\"]"
   ]
  },
  {
   "cell_type": "code",
   "execution_count": 22,
   "metadata": {},
   "outputs": [
    {
     "data": {
      "text/html": [
       "<div>\n",
       "<style scoped>\n",
       "    .dataframe tbody tr th:only-of-type {\n",
       "        vertical-align: middle;\n",
       "    }\n",
       "\n",
       "    .dataframe tbody tr th {\n",
       "        vertical-align: top;\n",
       "    }\n",
       "\n",
       "    .dataframe thead th {\n",
       "        text-align: right;\n",
       "    }\n",
       "</style>\n",
       "<table border=\"1\" class=\"dataframe\">\n",
       "  <thead>\n",
       "    <tr style=\"text-align: right;\">\n",
       "      <th></th>\n",
       "      <th>description</th>\n",
       "      <th>Exio prod code</th>\n",
       "      <th>Item</th>\n",
       "      <th>Item code</th>\n",
       "      <th>Unnamed: 4</th>\n",
       "      <th>Unnamed: 5</th>\n",
       "    </tr>\n",
       "  </thead>\n",
       "  <tbody>\n",
       "    <tr>\n",
       "      <th>256</th>\n",
       "      <td>Duck meat</td>\n",
       "      <td>C_Meat_duck</td>\n",
       "      <td>Duck meat</td>\n",
       "      <td>1069</td>\n",
       "      <td>NaN</td>\n",
       "      <td>NaN</td>\n",
       "    </tr>\n",
       "  </tbody>\n",
       "</table>\n",
       "</div>"
      ],
      "text/plain": [
       "    description Exio prod code       Item  Item code  Unnamed: 4  Unnamed: 5\n",
       "256   Duck meat    C_Meat_duck  Duck meat       1069         NaN         NaN"
      ]
     },
     "execution_count": 22,
     "metadata": {},
     "output_type": "execute_result"
    }
   ],
   "source": [
    "df_exio2fao.loc[df_exio2fao[\"Exio prod code\"]==\"C_Meat_duck\"]"
   ]
  },
  {
   "cell_type": "code",
   "execution_count": 43,
   "metadata": {},
   "outputs": [],
   "source": [
    "df_merge = result_df.merge(\n",
    "    df_exio2fao, \n",
    "    left_on=[\"fao_description\"], \n",
    "    right_on=[\"Item\"],\n",
    "    how=\"right\",\n",
    "    ).drop_duplicates()"
   ]
  },
  {
   "cell_type": "code",
   "execution_count": 38,
   "metadata": {},
   "outputs": [
    {
     "data": {
      "text/plain": [
       "(456, 456, 456)"
      ]
     },
     "execution_count": 38,
     "metadata": {},
     "output_type": "execute_result"
    }
   ],
   "source": [
    "len(df_merge), len(df_exio2fao), len(result_df)"
   ]
  },
  {
   "cell_type": "code",
   "execution_count": 44,
   "metadata": {},
   "outputs": [
    {
     "data": {
      "text/plain": [
       "Index(['fao_description', 'exio_description', 'exio_code', 'cosine_score',\n",
       "       'description', 'Exio prod code', 'Item', 'Item code', 'Unnamed: 4',\n",
       "       'Unnamed: 5'],\n",
       "      dtype='object')"
      ]
     },
     "execution_count": 44,
     "metadata": {},
     "output_type": "execute_result"
    }
   ],
   "source": [
    "df_merge.columns"
   ]
  },
  {
   "cell_type": "code",
   "execution_count": 46,
   "metadata": {},
   "outputs": [],
   "source": [
    "df_merge = df_merge[[\"fao_description\", \"exio_code\", \"Exio prod code\", \"cosine_score\"]]"
   ]
  },
  {
   "cell_type": "code",
   "execution_count": 48,
   "metadata": {},
   "outputs": [],
   "source": [
    "df_merge[\"compare\"] = df_merge.apply(lambda row: row[\"exio_code\"] == row[\"Exio prod code\"], axis=1)"
   ]
  },
  {
   "cell_type": "code",
   "execution_count": 54,
   "metadata": {},
   "outputs": [
    {
     "data": {
      "text/plain": [
       "0.9649122807017544"
      ]
     },
     "execution_count": 54,
     "metadata": {},
     "output_type": "execute_result"
    }
   ],
   "source": [
    "len(df_merge[df_merge[\"compare\"]==True])/len(df_merge)"
   ]
  },
  {
   "cell_type": "code",
   "execution_count": 55,
   "metadata": {},
   "outputs": [
    {
     "data": {
      "text/plain": [
       "456"
      ]
     },
     "execution_count": 55,
     "metadata": {},
     "output_type": "execute_result"
    }
   ],
   "source": [
    "len(df_merge)"
   ]
  },
  {
   "cell_type": "code",
   "execution_count": null,
   "metadata": {},
   "outputs": [],
   "source": []
  }
 ],
 "metadata": {
  "kernelspec": {
   "display_name": ".env",
   "language": "python",
   "name": "python3"
  },
  "language_info": {
   "codemirror_mode": {
    "name": "ipython",
    "version": 3
   },
   "file_extension": ".py",
   "mimetype": "text/x-python",
   "name": "python",
   "nbconvert_exporter": "python",
   "pygments_lexer": "ipython3",
   "version": "3.10.5"
  },
  "orig_nbformat": 4
 },
 "nbformat": 4,
 "nbformat_minor": 2
}
