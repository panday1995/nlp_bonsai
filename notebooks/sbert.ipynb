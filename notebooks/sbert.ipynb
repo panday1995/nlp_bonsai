{
 "cells": [
  {
   "cell_type": "code",
   "execution_count": 28,
   "metadata": {},
   "outputs": [],
   "source": [
    "from sentence_transformers import SentenceTransformer, util\n",
    "import pandas as pd"
   ]
  },
  {
   "cell_type": "code",
   "execution_count": 29,
   "metadata": {},
   "outputs": [],
   "source": [
    "def calc_cosine_sim(model_name, sentence_src, sentence_target):\n",
    "    model = SentenceTransformer(model_name)\n",
    "    embedding_src = model.encode(sentence_src, convert_to_tensor=True)\n",
    "    embedding_target = model.encode(sentence_target, convert_to_tensor=True)\n",
    "    cosine_score = util.pytorch_cos_sim(embedding_src, embedding_target)\n",
    "    return cosine_score"
   ]
  },
  {
   "cell_type": "code",
   "execution_count": 30,
   "metadata": {},
   "outputs": [],
   "source": [
    "cosine_score = calc_cosine_sim(\"all-mpnet-base-v2\", [\"raw milk\", \"bean milk\", \"milk\"], [\"milk industry\", \"cookie\"])\n"
   ]
  },
  {
   "cell_type": "code",
   "execution_count": 56,
   "metadata": {},
   "outputs": [],
   "source": [
    "df_exio2fao = pd.read_excel(\"./data/Exio4_vs_FCL.xlsx\", sheet_name=\"Exio4_vs_FAO\")\n",
    "df_exio2fao = df_exio2fao.drop_duplicates(subset=[\"Item\"], keep=\"first\").reset_index(drop=True)"
   ]
  },
  {
   "cell_type": "code",
   "execution_count": 58,
   "metadata": {},
   "outputs": [
    {
     "data": {
      "text/html": [
       "<div>\n",
       "<style scoped>\n",
       "    .dataframe tbody tr th:only-of-type {\n",
       "        vertical-align: middle;\n",
       "    }\n",
       "\n",
       "    .dataframe tbody tr th {\n",
       "        vertical-align: top;\n",
       "    }\n",
       "\n",
       "    .dataframe thead th {\n",
       "        text-align: right;\n",
       "    }\n",
       "</style>\n",
       "<table border=\"1\" class=\"dataframe\">\n",
       "  <thead>\n",
       "    <tr style=\"text-align: right;\">\n",
       "      <th></th>\n",
       "      <th>description</th>\n",
       "      <th>Exio prod code</th>\n",
       "      <th>Item</th>\n",
       "      <th>Item code</th>\n",
       "      <th>Unnamed: 4</th>\n",
       "      <th>Unnamed: 5</th>\n",
       "    </tr>\n",
       "  </thead>\n",
       "  <tbody>\n",
       "    <tr>\n",
       "      <th>0</th>\n",
       "      <td>Agave fibres nes</td>\n",
       "      <td>C_Agavs</td>\n",
       "      <td>Agave fibres nes</td>\n",
       "      <td>800</td>\n",
       "      <td>NaN</td>\n",
       "      <td>NaN</td>\n",
       "    </tr>\n",
       "    <tr>\n",
       "      <th>1</th>\n",
       "      <td>Alcohol, Non-Food Purposes</td>\n",
       "      <td>C_Alc_food</td>\n",
       "      <td>Alcohol, Non-Food Purposes</td>\n",
       "      <td>632</td>\n",
       "      <td>NaN</td>\n",
       "      <td>NaN</td>\n",
       "    </tr>\n",
       "    <tr>\n",
       "      <th>2</th>\n",
       "      <td>Almonds, Shelled</td>\n",
       "      <td>C_Almod</td>\n",
       "      <td>Almonds, Shelled</td>\n",
       "      <td>231</td>\n",
       "      <td>NaN</td>\n",
       "      <td>NaN</td>\n",
       "    </tr>\n",
       "    <tr>\n",
       "      <th>3</th>\n",
       "      <td>Almonds</td>\n",
       "      <td>C_Almol</td>\n",
       "      <td>Almonds</td>\n",
       "      <td>221</td>\n",
       "      <td>NaN</td>\n",
       "      <td>NaN</td>\n",
       "    </tr>\n",
       "    <tr>\n",
       "      <th>4</th>\n",
       "      <td>Anise, badian, fennel</td>\n",
       "      <td>C_Anisr</td>\n",
       "      <td>Anise, badian, fennel</td>\n",
       "      <td>711</td>\n",
       "      <td>NaN</td>\n",
       "      <td>NaN</td>\n",
       "    </tr>\n",
       "  </tbody>\n",
       "</table>\n",
       "</div>"
      ],
      "text/plain": [
       "                  description Exio prod code                        Item  \\\n",
       "0            Agave fibres nes        C_Agavs            Agave fibres nes   \n",
       "1  Alcohol, Non-Food Purposes     C_Alc_food  Alcohol, Non-Food Purposes   \n",
       "2            Almonds, Shelled        C_Almod            Almonds, Shelled   \n",
       "3                     Almonds        C_Almol                     Almonds   \n",
       "4       Anise, badian, fennel        C_Anisr       Anise, badian, fennel   \n",
       "\n",
       "   Item code  Unnamed: 4  Unnamed: 5  \n",
       "0        800         NaN         NaN  \n",
       "1        632         NaN         NaN  \n",
       "2        231         NaN         NaN  \n",
       "3        221         NaN         NaN  \n",
       "4        711         NaN         NaN  "
      ]
     },
     "execution_count": 58,
     "metadata": {},
     "output_type": "execute_result"
    }
   ],
   "source": [
    "df_exio2fao.head()"
   ]
  },
  {
   "cell_type": "code",
   "execution_count": 93,
   "metadata": {},
   "outputs": [
    {
     "name": "stdout",
     "output_type": "stream",
     "text": [
      "tensor([[1.0000, 0.2131, 0.4257,  ..., 0.3369, 0.3369, 0.3369],\n",
      "        [0.2131, 1.0000, 0.2554,  ..., 0.3740, 0.3740, 0.3740],\n",
      "        [0.4257, 0.2554, 1.0000,  ..., 0.3356, 0.3356, 0.3356],\n",
      "        ...,\n",
      "        [0.1495, 0.1134, 0.2362,  ..., 0.2224, 0.2224, 0.2224],\n",
      "        [0.1783, 0.1481, 0.1615,  ..., 0.3190, 0.3190, 0.3190],\n",
      "        [0.1569, 0.1499, 0.1938,  ..., 0.3497, 0.3497, 0.3497]])\n"
     ]
    }
   ],
   "source": [
    "arr_exio_descrip = df_exio2fao[\"description\"].values\n",
    "arr_fao_descrip = df_exio2fao[\"Item\"].values\n",
    "\n",
    "cosine_score = calc_cosine_sim(\"all-mpnet-base-v2\", arr_fao_descrip, arr_exio_descrip)"
   ]
  },
  {
   "cell_type": "code",
   "execution_count": 94,
   "metadata": {},
   "outputs": [],
   "source": [
    "sorted_cs, indices = cosine_score.sort(dim=1, descending=True)"
   ]
  },
  {
   "cell_type": "code",
   "execution_count": 95,
   "metadata": {},
   "outputs": [],
   "source": [
    "result_df = pd.DataFrame()\n",
    "\n",
    "for ix, product in enumerate(arr_fao_descrip):\n",
    "    sorted_product_cs = sorted_cs[ix].cpu().numpy()\n",
    "    exio_ix = indices[ix].cpu().numpy()\n",
    "    result_df.loc[ix, \"fao_description\"] = product\n",
    "    result_df.loc[ix, \"exio_description_nlp\"] = df_exio2fao.loc[exio_ix[0], \"description\"]\n",
    "    result_df.loc[ix, \"exio_code_nlp\"] = df_exio2fao.loc[exio_ix[0], \"Exio prod code\"]\n",
    "    result_df.loc[ix, 'cosine_score'] = float(\"{:.3f}\".format(sorted_product_cs[0]))\n"
   ]
  },
  {
   "cell_type": "code",
   "execution_count": 96,
   "metadata": {},
   "outputs": [
    {
     "data": {
      "text/html": [
       "<div>\n",
       "<style scoped>\n",
       "    .dataframe tbody tr th:only-of-type {\n",
       "        vertical-align: middle;\n",
       "    }\n",
       "\n",
       "    .dataframe tbody tr th {\n",
       "        vertical-align: top;\n",
       "    }\n",
       "\n",
       "    .dataframe thead th {\n",
       "        text-align: right;\n",
       "    }\n",
       "</style>\n",
       "<table border=\"1\" class=\"dataframe\">\n",
       "  <thead>\n",
       "    <tr style=\"text-align: right;\">\n",
       "      <th></th>\n",
       "      <th>fao_description</th>\n",
       "      <th>exio_description_nlp</th>\n",
       "      <th>exio_code_nlp</th>\n",
       "      <th>cosine_score</th>\n",
       "    </tr>\n",
       "  </thead>\n",
       "  <tbody>\n",
       "    <tr>\n",
       "      <th>445</th>\n",
       "      <td>Ducks</td>\n",
       "      <td>Duck meat</td>\n",
       "      <td>C_Meat_duck</td>\n",
       "      <td>0.562</td>\n",
       "    </tr>\n",
       "    <tr>\n",
       "      <th>446</th>\n",
       "      <td>Turkeys</td>\n",
       "      <td>Turkey meat</td>\n",
       "      <td>C_Meat_turk</td>\n",
       "      <td>0.725</td>\n",
       "    </tr>\n",
       "    <tr>\n",
       "      <th>447</th>\n",
       "      <td>Asses</td>\n",
       "      <td>Meat of asses</td>\n",
       "      <td>C_Meat_ass</td>\n",
       "      <td>0.602</td>\n",
       "    </tr>\n",
       "    <tr>\n",
       "      <th>448</th>\n",
       "      <td>Horses</td>\n",
       "      <td>Offals of horses</td>\n",
       "      <td>C_Offas_hors</td>\n",
       "      <td>0.711</td>\n",
       "    </tr>\n",
       "    <tr>\n",
       "      <th>449</th>\n",
       "      <td>Rabbits</td>\n",
       "      <td>Rabbit meat</td>\n",
       "      <td>C_Meat_rabb</td>\n",
       "      <td>0.619</td>\n",
       "    </tr>\n",
       "  </tbody>\n",
       "</table>\n",
       "</div>"
      ],
      "text/plain": [
       "    fao_description exio_description_nlp exio_code_nlp  cosine_score\n",
       "445           Ducks            Duck meat   C_Meat_duck         0.562\n",
       "446         Turkeys          Turkey meat   C_Meat_turk         0.725\n",
       "447           Asses        Meat of asses    C_Meat_ass         0.602\n",
       "448          Horses     Offals of horses  C_Offas_hors         0.711\n",
       "449         Rabbits          Rabbit meat   C_Meat_rabb         0.619"
      ]
     },
     "execution_count": 96,
     "metadata": {},
     "output_type": "execute_result"
    }
   ],
   "source": [
    "result_df.tail()"
   ]
  },
  {
   "cell_type": "code",
   "execution_count": 99,
   "metadata": {},
   "outputs": [],
   "source": [
    "df_merge = result_df.merge(\n",
    "    df_exio2fao, \n",
    "    left_on=[\"fao_description\"], \n",
    "    right_on=[\"Item\"],\n",
    "    how=\"right\",\n",
    "    ).drop_duplicates()"
   ]
  },
  {
   "cell_type": "code",
   "execution_count": 100,
   "metadata": {},
   "outputs": [
    {
     "data": {
      "text/plain": [
       "(450, 450, 450)"
      ]
     },
     "execution_count": 100,
     "metadata": {},
     "output_type": "execute_result"
    }
   ],
   "source": [
    "len(df_merge), len(df_exio2fao), len(result_df)"
   ]
  },
  {
   "cell_type": "code",
   "execution_count": 101,
   "metadata": {},
   "outputs": [],
   "source": [
    "df_merge = df_merge[[\"fao_description\", \"exio_description_nlp\", \"exio_code_nlp\", \"description\",\"Exio prod code\", \"cosine_score\"]]\n",
    "df_merge[\"compare\"] = df_merge.apply(lambda row: row[\"exio_code_nlp\"] == row[\"Exio prod code\"], axis=1)\n"
   ]
  },
  {
   "cell_type": "code",
   "execution_count": 103,
   "metadata": {},
   "outputs": [
    {
     "data": {
      "text/plain": [
       "0.9777777777777777"
      ]
     },
     "execution_count": 103,
     "metadata": {},
     "output_type": "execute_result"
    }
   ],
   "source": [
    "len(df_merge[df_merge[\"compare\"]==True])/len(df_merge)"
   ]
  },
  {
   "cell_type": "code",
   "execution_count": 104,
   "metadata": {},
   "outputs": [
    {
     "data": {
      "text/html": [
       "<div>\n",
       "<style scoped>\n",
       "    .dataframe tbody tr th:only-of-type {\n",
       "        vertical-align: middle;\n",
       "    }\n",
       "\n",
       "    .dataframe tbody tr th {\n",
       "        vertical-align: top;\n",
       "    }\n",
       "\n",
       "    .dataframe thead th {\n",
       "        text-align: right;\n",
       "    }\n",
       "</style>\n",
       "<table border=\"1\" class=\"dataframe\">\n",
       "  <thead>\n",
       "    <tr style=\"text-align: right;\">\n",
       "      <th></th>\n",
       "      <th>fao_description</th>\n",
       "      <th>exio_description_nlp</th>\n",
       "      <th>exio_code_nlp</th>\n",
       "      <th>description</th>\n",
       "      <th>Exio prod code</th>\n",
       "      <th>cosine_score</th>\n",
       "      <th>compare</th>\n",
       "    </tr>\n",
       "  </thead>\n",
       "  <tbody>\n",
       "    <tr>\n",
       "      <th>73</th>\n",
       "      <td>Cattle</td>\n",
       "      <td>Cattle - Milk</td>\n",
       "      <td>C_Catmilk</td>\n",
       "      <td>Cattle - Meat (live)</td>\n",
       "      <td>C_Catmeat</td>\n",
       "      <td>0.779</td>\n",
       "      <td>False</td>\n",
       "    </tr>\n",
       "    <tr>\n",
       "      <th>335</th>\n",
       "      <td>Camels</td>\n",
       "      <td>Fat of camels</td>\n",
       "      <td>C_Fat_cam</td>\n",
       "      <td>Other animal products</td>\n",
       "      <td>C_Othanpr</td>\n",
       "      <td>0.705</td>\n",
       "      <td>False</td>\n",
       "    </tr>\n",
       "    <tr>\n",
       "      <th>349</th>\n",
       "      <td>Pigs</td>\n",
       "      <td>Pig meat</td>\n",
       "      <td>C_Meat_pig</td>\n",
       "      <td>Pig meat (live)</td>\n",
       "      <td>C_Pigmeat</td>\n",
       "      <td>0.668</td>\n",
       "      <td>False</td>\n",
       "    </tr>\n",
       "    <tr>\n",
       "      <th>356</th>\n",
       "      <td>Chickens</td>\n",
       "      <td>Hen eggs</td>\n",
       "      <td>C_Eggsl</td>\n",
       "      <td>Poultry - Meat (live)</td>\n",
       "      <td>C_Polmeat</td>\n",
       "      <td>0.682</td>\n",
       "      <td>False</td>\n",
       "    </tr>\n",
       "    <tr>\n",
       "      <th>382</th>\n",
       "      <td>Sheep</td>\n",
       "      <td>Sheep - Milk</td>\n",
       "      <td>C_Shemilk</td>\n",
       "      <td>Sheep - Meat (live)</td>\n",
       "      <td>C_Shemeat</td>\n",
       "      <td>0.693</td>\n",
       "      <td>False</td>\n",
       "    </tr>\n",
       "    <tr>\n",
       "      <th>445</th>\n",
       "      <td>Ducks</td>\n",
       "      <td>Duck meat</td>\n",
       "      <td>C_Meat_duck</td>\n",
       "      <td>Poultry - Meat (live)</td>\n",
       "      <td>C_Polmeat</td>\n",
       "      <td>0.562</td>\n",
       "      <td>False</td>\n",
       "    </tr>\n",
       "    <tr>\n",
       "      <th>446</th>\n",
       "      <td>Turkeys</td>\n",
       "      <td>Turkey meat</td>\n",
       "      <td>C_Meat_turk</td>\n",
       "      <td>Poultry - Meat (live)</td>\n",
       "      <td>C_Polmeat</td>\n",
       "      <td>0.725</td>\n",
       "      <td>False</td>\n",
       "    </tr>\n",
       "    <tr>\n",
       "      <th>447</th>\n",
       "      <td>Asses</td>\n",
       "      <td>Meat of asses</td>\n",
       "      <td>C_Meat_ass</td>\n",
       "      <td>Other animal products</td>\n",
       "      <td>C_Othanpr</td>\n",
       "      <td>0.602</td>\n",
       "      <td>False</td>\n",
       "    </tr>\n",
       "    <tr>\n",
       "      <th>448</th>\n",
       "      <td>Horses</td>\n",
       "      <td>Offals of horses</td>\n",
       "      <td>C_Offas_hors</td>\n",
       "      <td>Other animal products</td>\n",
       "      <td>C_Othanpr</td>\n",
       "      <td>0.711</td>\n",
       "      <td>False</td>\n",
       "    </tr>\n",
       "    <tr>\n",
       "      <th>449</th>\n",
       "      <td>Rabbits</td>\n",
       "      <td>Rabbit meat</td>\n",
       "      <td>C_Meat_rabb</td>\n",
       "      <td>Other animal products</td>\n",
       "      <td>C_Othanpr</td>\n",
       "      <td>0.619</td>\n",
       "      <td>False</td>\n",
       "    </tr>\n",
       "  </tbody>\n",
       "</table>\n",
       "</div>"
      ],
      "text/plain": [
       "    fao_description exio_description_nlp exio_code_nlp            description  \\\n",
       "73           Cattle        Cattle - Milk     C_Catmilk   Cattle - Meat (live)   \n",
       "335          Camels        Fat of camels     C_Fat_cam  Other animal products   \n",
       "349            Pigs             Pig meat    C_Meat_pig        Pig meat (live)   \n",
       "356        Chickens             Hen eggs       C_Eggsl  Poultry - Meat (live)   \n",
       "382           Sheep         Sheep - Milk     C_Shemilk    Sheep - Meat (live)   \n",
       "445           Ducks            Duck meat   C_Meat_duck  Poultry - Meat (live)   \n",
       "446         Turkeys          Turkey meat   C_Meat_turk  Poultry - Meat (live)   \n",
       "447           Asses        Meat of asses    C_Meat_ass  Other animal products   \n",
       "448          Horses     Offals of horses  C_Offas_hors  Other animal products   \n",
       "449         Rabbits          Rabbit meat   C_Meat_rabb  Other animal products   \n",
       "\n",
       "    Exio prod code  cosine_score  compare  \n",
       "73       C_Catmeat         0.779    False  \n",
       "335      C_Othanpr         0.705    False  \n",
       "349      C_Pigmeat         0.668    False  \n",
       "356      C_Polmeat         0.682    False  \n",
       "382      C_Shemeat         0.693    False  \n",
       "445      C_Polmeat         0.562    False  \n",
       "446      C_Polmeat         0.725    False  \n",
       "447      C_Othanpr         0.602    False  \n",
       "448      C_Othanpr         0.711    False  \n",
       "449      C_Othanpr         0.619    False  "
      ]
     },
     "execution_count": 104,
     "metadata": {},
     "output_type": "execute_result"
    }
   ],
   "source": [
    "df_merge[df_merge[\"compare\"]==False]"
   ]
  },
  {
   "cell_type": "code",
   "execution_count": 105,
   "metadata": {},
   "outputs": [],
   "source": [
    "cosine_score = calc_cosine_sim(\"all-mpnet-base-v2\", [\"Cattle\"], [\"Other animal products\"])"
   ]
  },
  {
   "cell_type": "code",
   "execution_count": 106,
   "metadata": {},
   "outputs": [
    {
     "data": {
      "text/plain": [
       "tensor([[0.4923]])"
      ]
     },
     "execution_count": 106,
     "metadata": {},
     "output_type": "execute_result"
    }
   ],
   "source": [
    "cosine_score"
   ]
  }
 ],
 "metadata": {
  "kernelspec": {
   "display_name": ".env",
   "language": "python",
   "name": "python3"
  },
  "language_info": {
   "codemirror_mode": {
    "name": "ipython",
    "version": 3
   },
   "file_extension": ".py",
   "mimetype": "text/x-python",
   "name": "python",
   "nbconvert_exporter": "python",
   "pygments_lexer": "ipython3",
   "version": "3.9.12"
  },
  "orig_nbformat": 4
 },
 "nbformat": 4,
 "nbformat_minor": 2
}
